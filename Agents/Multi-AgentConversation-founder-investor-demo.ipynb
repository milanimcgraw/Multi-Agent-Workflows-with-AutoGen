{
 "cells": [
  {
   "cell_type": "markdown",
   "id": "a81456dd",
   "metadata": {},
   "source": [
    "# Multi-Agent Conversations: Startup Pitch Simulation\n",
    "\n",
    "#### **Agents**: Startup Founder and Investor Chat\n",
    "\n",
    "This notebook simulates a conversation between a startup founder and an investor using AutoGen AgentChat v0.4. The agents take part in a realistic pitch scenario, highlighting how agentic AI can support business communication, product discussion, and funding conversations."
   ]
  },
  {
   "cell_type": "markdown",
   "id": "742cf649",
   "metadata": {},
   "source": [
    "### Setup"
   ]
  },
  {
   "cell_type": "code",
   "execution_count": 45,
   "id": "9c7dc1bb-8c5a-4347-b792-b9236ebb42a7",
   "metadata": {},
   "outputs": [
    {
     "name": "stdout",
     "output_type": "stream",
     "text": [
      "Collecting autogen\n",
      "  Downloading autogen-0.9.3-py3-none-any.whl.metadata (24 kB)\n",
      "Collecting ag2==0.9.3 (from autogen)\n",
      "  Downloading ag2-0.9.3-py3-none-any.whl.metadata (35 kB)\n",
      "Requirement already satisfied: anyio<5.0.0,>=3.0.0 in /home/codespace/.local/lib/python3.12/site-packages (from ag2==0.9.3->autogen) (4.9.0)\n",
      "Collecting asyncer==0.0.8 (from ag2==0.9.3->autogen)\n",
      "  Downloading asyncer-0.0.8-py3-none-any.whl.metadata (6.7 kB)\n",
      "Collecting diskcache (from ag2==0.9.3->autogen)\n",
      "  Downloading diskcache-5.6.3-py3-none-any.whl.metadata (20 kB)\n",
      "Collecting docker (from ag2==0.9.3->autogen)\n",
      "  Downloading docker-7.1.0-py3-none-any.whl.metadata (3.8 kB)\n",
      "Requirement already satisfied: httpx<1,>=0.28.1 in /home/codespace/.local/lib/python3.12/site-packages (from ag2==0.9.3->autogen) (0.28.1)\n",
      "Requirement already satisfied: packaging in /home/codespace/.local/lib/python3.12/site-packages (from ag2==0.9.3->autogen) (25.0)\n",
      "Requirement already satisfied: pydantic<3,>=2.6.1 in /usr/local/python/3.12.1/lib/python3.12/site-packages (from ag2==0.9.3->autogen) (2.11.7)\n",
      "Collecting python-dotenv (from ag2==0.9.3->autogen)\n",
      "  Downloading python_dotenv-1.1.1-py3-none-any.whl.metadata (24 kB)\n",
      "Collecting termcolor (from ag2==0.9.3->autogen)\n",
      "  Downloading termcolor-3.1.0-py3-none-any.whl.metadata (6.4 kB)\n",
      "Requirement already satisfied: tiktoken in /usr/local/python/3.12.1/lib/python3.12/site-packages (from ag2==0.9.3->autogen) (0.9.0)\n",
      "Requirement already satisfied: idna>=2.8 in /home/codespace/.local/lib/python3.12/site-packages (from anyio<5.0.0,>=3.0.0->ag2==0.9.3->autogen) (3.10)\n",
      "Requirement already satisfied: sniffio>=1.1 in /home/codespace/.local/lib/python3.12/site-packages (from anyio<5.0.0,>=3.0.0->ag2==0.9.3->autogen) (1.3.1)\n",
      "Requirement already satisfied: typing_extensions>=4.5 in /home/codespace/.local/lib/python3.12/site-packages (from anyio<5.0.0,>=3.0.0->ag2==0.9.3->autogen) (4.13.2)\n",
      "Requirement already satisfied: certifi in /home/codespace/.local/lib/python3.12/site-packages (from httpx<1,>=0.28.1->ag2==0.9.3->autogen) (2025.4.26)\n",
      "Requirement already satisfied: httpcore==1.* in /home/codespace/.local/lib/python3.12/site-packages (from httpx<1,>=0.28.1->ag2==0.9.3->autogen) (1.0.9)\n",
      "Requirement already satisfied: h11>=0.16 in /home/codespace/.local/lib/python3.12/site-packages (from httpcore==1.*->httpx<1,>=0.28.1->ag2==0.9.3->autogen) (0.16.0)\n",
      "Requirement already satisfied: annotated-types>=0.6.0 in /usr/local/python/3.12.1/lib/python3.12/site-packages (from pydantic<3,>=2.6.1->ag2==0.9.3->autogen) (0.7.0)\n",
      "Requirement already satisfied: pydantic-core==2.33.2 in /usr/local/python/3.12.1/lib/python3.12/site-packages (from pydantic<3,>=2.6.1->ag2==0.9.3->autogen) (2.33.2)\n",
      "Requirement already satisfied: typing-inspection>=0.4.0 in /usr/local/python/3.12.1/lib/python3.12/site-packages (from pydantic<3,>=2.6.1->ag2==0.9.3->autogen) (0.4.1)\n",
      "Requirement already satisfied: requests>=2.26.0 in /home/codespace/.local/lib/python3.12/site-packages (from docker->ag2==0.9.3->autogen) (2.32.3)\n",
      "Requirement already satisfied: urllib3>=1.26.0 in /home/codespace/.local/lib/python3.12/site-packages (from docker->ag2==0.9.3->autogen) (2.4.0)\n",
      "Requirement already satisfied: charset-normalizer<4,>=2 in /home/codespace/.local/lib/python3.12/site-packages (from requests>=2.26.0->docker->ag2==0.9.3->autogen) (3.4.2)\n",
      "Requirement already satisfied: regex>=2022.1.18 in /usr/local/python/3.12.1/lib/python3.12/site-packages (from tiktoken->ag2==0.9.3->autogen) (2024.11.6)\n",
      "Downloading autogen-0.9.3-py3-none-any.whl (13 kB)\n",
      "Downloading ag2-0.9.3-py3-none-any.whl (826 kB)\n",
      "\u001b[2K   \u001b[38;2;114;156;31m━━━━━━━━━━━━━━━━━━━━━━━━━━━━━━━━━━━━━━━━\u001b[0m \u001b[32m826.8/826.8 kB\u001b[0m \u001b[31m26.7 MB/s\u001b[0m eta \u001b[36m0:00:00\u001b[0m\n",
      "\u001b[?25hDownloading asyncer-0.0.8-py3-none-any.whl (9.2 kB)\n",
      "Downloading diskcache-5.6.3-py3-none-any.whl (45 kB)\n",
      "Downloading docker-7.1.0-py3-none-any.whl (147 kB)\n",
      "Downloading python_dotenv-1.1.1-py3-none-any.whl (20 kB)\n",
      "Downloading termcolor-3.1.0-py3-none-any.whl (7.7 kB)\n",
      "Installing collected packages: termcolor, python-dotenv, diskcache, docker, asyncer, ag2, autogen\n",
      "\u001b[2K   \u001b[38;2;114;156;31m━━━━━━━━━━━━━━━━━━━━━━━━━━━━━━━━━━━━━━━━\u001b[0m \u001b[32m7/7\u001b[0m [autogen]━━━━━━━━━━\u001b[0m \u001b[32m5/7\u001b[0m [ag2]\n",
      "\u001b[1A\u001b[2KSuccessfully installed ag2-0.9.3 asyncer-0.0.8 autogen-0.9.3 diskcache-5.6.3 docker-7.1.0 python-dotenv-1.1.1 termcolor-3.1.0\n"
     ]
    }
   ],
   "source": [
    "!pip install autogen"
   ]
  },
  {
   "cell_type": "code",
   "execution_count": 6,
   "id": "04d006c1-22fa-40ea-b3e0-d543142e0788",
   "metadata": {},
   "outputs": [
    {
     "name": "stdout",
     "output_type": "stream",
     "text": [
      "Requirement already satisfied: autogen-agentchat in /usr/local/python/3.12.1/lib/python3.12/site-packages (0.6.1)\n",
      "Requirement already satisfied: autogen-ext[openai] in /usr/local/python/3.12.1/lib/python3.12/site-packages (0.6.1)\n",
      "Requirement already satisfied: autogen-core==0.6.1 in /usr/local/python/3.12.1/lib/python3.12/site-packages (from autogen-agentchat) (0.6.1)\n",
      "Requirement already satisfied: jsonref~=1.1.0 in /usr/local/python/3.12.1/lib/python3.12/site-packages (from autogen-core==0.6.1->autogen-agentchat) (1.1.0)\n",
      "Requirement already satisfied: opentelemetry-api>=1.27.0 in /usr/local/python/3.12.1/lib/python3.12/site-packages (from autogen-core==0.6.1->autogen-agentchat) (1.34.1)\n",
      "Requirement already satisfied: pillow>=11.0.0 in /home/codespace/.local/lib/python3.12/site-packages (from autogen-core==0.6.1->autogen-agentchat) (11.2.1)\n",
      "Requirement already satisfied: protobuf~=5.29.3 in /usr/local/python/3.12.1/lib/python3.12/site-packages (from autogen-core==0.6.1->autogen-agentchat) (5.29.5)\n",
      "Requirement already satisfied: pydantic<3.0.0,>=2.10.0 in /usr/local/python/3.12.1/lib/python3.12/site-packages (from autogen-core==0.6.1->autogen-agentchat) (2.11.7)\n",
      "Requirement already satisfied: typing-extensions>=4.0.0 in /home/codespace/.local/lib/python3.12/site-packages (from autogen-core==0.6.1->autogen-agentchat) (4.13.2)\n",
      "Requirement already satisfied: annotated-types>=0.6.0 in /usr/local/python/3.12.1/lib/python3.12/site-packages (from pydantic<3.0.0,>=2.10.0->autogen-core==0.6.1->autogen-agentchat) (0.7.0)\n",
      "Requirement already satisfied: pydantic-core==2.33.2 in /usr/local/python/3.12.1/lib/python3.12/site-packages (from pydantic<3.0.0,>=2.10.0->autogen-core==0.6.1->autogen-agentchat) (2.33.2)\n",
      "Requirement already satisfied: typing-inspection>=0.4.0 in /usr/local/python/3.12.1/lib/python3.12/site-packages (from pydantic<3.0.0,>=2.10.0->autogen-core==0.6.1->autogen-agentchat) (0.4.1)\n",
      "Requirement already satisfied: aiofiles in /usr/local/python/3.12.1/lib/python3.12/site-packages (from autogen-ext[openai]) (24.1.0)\n",
      "Requirement already satisfied: openai>=1.66.5 in /usr/local/python/3.12.1/lib/python3.12/site-packages (from autogen-ext[openai]) (1.91.0)\n",
      "Requirement already satisfied: tiktoken>=0.8.0 in /usr/local/python/3.12.1/lib/python3.12/site-packages (from autogen-ext[openai]) (0.9.0)\n",
      "Requirement already satisfied: anyio<5,>=3.5.0 in /home/codespace/.local/lib/python3.12/site-packages (from openai>=1.66.5->autogen-ext[openai]) (4.9.0)\n",
      "Requirement already satisfied: distro<2,>=1.7.0 in /usr/local/python/3.12.1/lib/python3.12/site-packages (from openai>=1.66.5->autogen-ext[openai]) (1.9.0)\n",
      "Requirement already satisfied: httpx<1,>=0.23.0 in /home/codespace/.local/lib/python3.12/site-packages (from openai>=1.66.5->autogen-ext[openai]) (0.28.1)\n",
      "Requirement already satisfied: jiter<1,>=0.4.0 in /usr/local/python/3.12.1/lib/python3.12/site-packages (from openai>=1.66.5->autogen-ext[openai]) (0.10.0)\n",
      "Requirement already satisfied: sniffio in /home/codespace/.local/lib/python3.12/site-packages (from openai>=1.66.5->autogen-ext[openai]) (1.3.1)\n",
      "Requirement already satisfied: tqdm>4 in /usr/local/python/3.12.1/lib/python3.12/site-packages (from openai>=1.66.5->autogen-ext[openai]) (4.67.1)\n",
      "Requirement already satisfied: idna>=2.8 in /home/codespace/.local/lib/python3.12/site-packages (from anyio<5,>=3.5.0->openai>=1.66.5->autogen-ext[openai]) (3.10)\n",
      "Requirement already satisfied: certifi in /home/codespace/.local/lib/python3.12/site-packages (from httpx<1,>=0.23.0->openai>=1.66.5->autogen-ext[openai]) (2025.4.26)\n",
      "Requirement already satisfied: httpcore==1.* in /home/codespace/.local/lib/python3.12/site-packages (from httpx<1,>=0.23.0->openai>=1.66.5->autogen-ext[openai]) (1.0.9)\n",
      "Requirement already satisfied: h11>=0.16 in /home/codespace/.local/lib/python3.12/site-packages (from httpcore==1.*->httpx<1,>=0.23.0->openai>=1.66.5->autogen-ext[openai]) (0.16.0)\n",
      "Requirement already satisfied: importlib-metadata<8.8.0,>=6.0 in /usr/local/python/3.12.1/lib/python3.12/site-packages (from opentelemetry-api>=1.27.0->autogen-core==0.6.1->autogen-agentchat) (8.7.0)\n",
      "Requirement already satisfied: zipp>=3.20 in /usr/local/python/3.12.1/lib/python3.12/site-packages (from importlib-metadata<8.8.0,>=6.0->opentelemetry-api>=1.27.0->autogen-core==0.6.1->autogen-agentchat) (3.23.0)\n",
      "Requirement already satisfied: regex>=2022.1.18 in /usr/local/python/3.12.1/lib/python3.12/site-packages (from tiktoken>=0.8.0->autogen-ext[openai]) (2024.11.6)\n",
      "Requirement already satisfied: requests>=2.26.0 in /home/codespace/.local/lib/python3.12/site-packages (from tiktoken>=0.8.0->autogen-ext[openai]) (2.32.3)\n",
      "Requirement already satisfied: charset-normalizer<4,>=2 in /home/codespace/.local/lib/python3.12/site-packages (from requests>=2.26.0->tiktoken>=0.8.0->autogen-ext[openai]) (3.4.2)\n",
      "Requirement already satisfied: urllib3<3,>=1.21.1 in /home/codespace/.local/lib/python3.12/site-packages (from requests>=2.26.0->tiktoken>=0.8.0->autogen-ext[openai]) (2.4.0)\n"
     ]
    }
   ],
   "source": [
    "!pip install -U \"autogen-agentchat\" \"autogen-ext[openai]\" "
   ]
  },
  {
   "cell_type": "code",
   "execution_count": 7,
   "id": "05a2c664-4440-4aee-a572-74f8418a558f",
   "metadata": {},
   "outputs": [],
   "source": [
    "import os"
   ]
  },
  {
   "cell_type": "code",
   "execution_count": 18,
   "id": "29d5146c-6060-4ec7-80a1-c7fa72e5a679",
   "metadata": {},
   "outputs": [],
   "source": [
    "from autogen_ext.models.openai import OpenAIChatCompletionClient"
   ]
  },
  {
   "cell_type": "code",
   "execution_count": 19,
   "id": "6fb8c441-c58c-41a8-a54b-5c387afceac5",
   "metadata": {},
   "outputs": [],
   "source": [
    "model_client = OpenAIChatCompletionClient(\n",
    "    model=\"gpt-4o\",\n",
    "    api_key=os.getenv(\"OPENAI_API_KEY\")\n",
    ")"
   ]
  },
  {
   "cell_type": "markdown",
   "id": "116a1c4d",
   "metadata": {},
   "source": [
    "### Defining an AutoGen agent"
   ]
  },
  {
   "cell_type": "code",
   "execution_count": 20,
   "id": "c7353082-db27-4a61-9a6f-59abf53655ec",
   "metadata": {},
   "outputs": [],
   "source": [
    "from autogen_agentchat.agents import AssistantAgent"
   ]
  },
  {
   "cell_type": "code",
   "execution_count": 21,
   "id": "8f109dcb-824e-40d7-8e86-efee42b75f3c",
   "metadata": {},
   "outputs": [],
   "source": [
    "founder = AssistantAgent(\n",
    "    name=\"Founder\",\n",
    "    model_client=model_client,\n",
    "    system_message=\"You are a startup founder pitching an AI-powered market analysis tool. You're clear, passionate, and focused on communicating product value to investors.\"\n",
    ")\n",
    "\n",
    "investor = AssistantAgent(\n",
    "    name=\"Investor\",\n",
    "    model_client=model_client,\n",
    "    system_message=\"You are a seasoned tech investor. Be direct and ask critical questions about market size, monetization, and competitive advantage.\"\n",
    ")\n"
   ]
  },
  {
   "cell_type": "markdown",
   "id": "5fb2cb93-0e09-4843-89aa-97444cabc23a",
   "metadata": {},
   "source": [
    "# Multi-Agent Conversations "
   ]
  },
  {
   "cell_type": "markdown",
   "id": "8c98a301",
   "metadata": {},
   "source": [
    "### Turn-Based Agent Conversation: Founder & Investor"
   ]
  },
  {
   "cell_type": "code",
   "execution_count": 27,
   "id": "8775c892-142b-4a53-8f66-d196e29e8e67",
   "metadata": {},
   "outputs": [
    {
     "name": "stdout",
     "output_type": "stream",
     "text": [
      "Founder: Hello! I'm excited to introduce you to our innovative AI-powered solution designed to redefine automated market research. In today's fast-paced business world, having timely and accurate market insights is crucial for staying competitive, and our tool is crafted to deliver just that.\n",
      "\n",
      "Our AI solution analyzes vast and diverse data sources—including social media, industry reports, consumer reviews, and news articles—to provide comprehensive and actionable market insights. This enables businesses to have a deep understanding of market trends, customer preferences, and competitive dynamics without the tedious legwork traditionally involved in market research.\n",
      "\n",
      "Here’s why our tool stands out:\n",
      "\n",
      "1. **Speed and Efficiency**: Automated data processing allows us to deliver insights in real-time, offering a significant edge in reacting to market changes as they happen, rather than after the fact.\n",
      "\n",
      "2. **Predictive Capabilities**: Our advanced algorithms don’t just analyze current data but also use historical data to predict future market trends, helping businesses stay ahead of the curve.\n",
      "\n",
      "3. **Customizable and User-Friendly**: We’ve designed our platform to be both powerful and accessible. With a user-friendly interface and customizable dashboards, businesses can tailor the insights to match their specific needs and strategic goals.\n",
      "\n",
      "4. **Cost-Effective**: By automating the market research process, our tool drastically reduces the resources and time typically spent on data gathering and analysis, providing a high return on investment.\n",
      "\n",
      "5. **Decision Support**: With integrated insights, companies can make informed decisions quickly, enhancing strategic planning and operational efficiency.\n",
      "\n",
      "We believe that your investment in our AI solution is not just an investment in technology, but in a smarter, more agile future for market analysis. Join us as we revolutionize the way businesses approach market research, ensuring they are not just keeping up with change, but leading it. Together, we can craft a future where intelligent insights drive impactful strategies.\n"
     ]
    }
   ],
   "source": [
    "# Founder initiates pitch\n",
    "result = await founder.run(\n",
    "    task=\"Hi! I'm excited to share a new AI solution we're building for automated market research.\"\n",
    ")\n",
    "founder_msg = result.messages[-1].content\n",
    "print(\"Founder:\", founder_msg)"
   ]
  },
  {
   "cell_type": "code",
   "execution_count": 29,
   "id": "5157a38d-90f6-447a-9660-47ae88e5640b",
   "metadata": {},
   "outputs": [
    {
     "name": "stdout",
     "output_type": "stream",
     "text": [
      "Investor: The potential market opportunity for AI-powered market research solutions is indeed significant, as businesses across sectors increasingly prioritize data-driven decision-making. However, let's delve into specifics:\n",
      "\n",
      "1. **Market Size**: What is the estimated size of the total addressable market (TAM) for your AI market research tool? How do you break this down into serviceable available market (SAM) and serviceable obtainable market (SOM)?\n",
      "\n",
      "2. **Target Segments**: Which specific industries or customer segments are you targeting initially, and why? Understanding your focus can shed light on how attainable your market share goals are.\n",
      "\n",
      "3. **Customer Acquisition Strategy**: What strategies and channels will you use to capture and grow your customer base? How will you differentiate from existing solutions to persuade customers to switch to your platform?\n",
      "\n",
      "4. **Monetization Model**: How exactly do you plan to monetize your product? Is it a subscription-based model, pay-per-use, or something else? How do these pricing models compare with competitors in terms of cost-effectiveness and value provided to customers?\n",
      "\n",
      "5. **Competitive Advantage**: What sets your solution apart from both traditional market research firms and other AI-driven competitors? Is it the technology, the speed, the comprehensiveness of the data, the predictive capabilities, or a combination of factors?\n",
      "\n",
      "6. **Scaling Capabilities**: What infrastructure do you have in place to support scaling your operations and product offerings as your customer base grows?\n",
      "\n",
      "Understanding these aspects will give us better insight into how you plan to capture a meaningful market share and sustain long-term growth.\n"
     ]
    }
   ],
   "source": [
    "# Investor asks a follow-up question based on founder's pitch\n",
    "result = await investor.run(\n",
    "    task=f\"The founder said: '{founder_msg}'.This sounds impressive, but how large is the market opportunity for your product—and how do you plan to capture a meaningful share of it?\"\n",
    ")\n",
    "investor_msg = result.messages[-1].content\n",
    "print(\"Investor:\", investor_msg)"
   ]
  },
  {
   "cell_type": "code",
   "execution_count": 31,
   "id": "a65e3f04-c747-4319-856c-55c719304c2f",
   "metadata": {},
   "outputs": [
    {
     "name": "stdout",
     "output_type": "stream",
     "text": [
      "Founder: Absolutely, it's important to address these aspects thoroughly to give you a comprehensive understanding of our strategy:\n",
      "\n",
      "1. **Market Size**: The total addressable market (TAM) for AI in market research is projected to be around $40 billion by 2030. For our serviceable available market (SAM), we are focusing on key verticals like technology, finance, and consumer goods, which collectively account for a market potential of approximately $10 billion. Our initial serviceable obtainable market (SOM) target is to capture 2-3% of this SAM in the first few years, translating to an estimated $200-300 million, through strategic customer acquisition and industry penetration.\n",
      "\n",
      "2. **Target Segments**: We are initially targeting industries such as technology, finance, and consumer goods. These sectors are early adopters of new technologies and require robust, timely insights to drive decision-making and maintain competitiveness. Their reliance on data-driven strategies makes them ideal candidates for our solution. We believe that by focusing on these sectors, we can achieve deeper penetration and establish a strong foothold before expanding further.\n",
      "\n",
      "3. **Customer Acquisition Strategy**: Our strategy will employ a mix of digital marketing, direct sales, and partnerships with industry leaders. We plan to differentiate ourselves by highlighting our unique real-time predictive analytics capabilities, user-friendly interface, and integration flexibility. Offering pilot trials and engaging in thought leadership through webinars and white papers will also help attract and convert customers by showcasing clear value and ROI.\n",
      "\n",
      "4. **Monetization Model**: We are adopting a subscription-based model with tiered pricing, offering basic to premium packages. This approach allows us to align costs with customer needs and deliver value at various scales. Compared to competitors, our pricing offers significant value through comprehensive insights and rapid delivery, which enhance cost-efficiency for our clients over traditional market research methods.\n",
      "\n",
      "5. **Competitive Advantage**: Our solution stands out due to a combination of advanced predictive algorithms, real-time data processing, and an intuitive interface. Unlike traditional firms that deliver delayed results, our tool provides instant insights, allowing businesses to stay agile. Additionally, our adaptive technology ensures we remain at the forefront of AI advancements, providing continuously improved functionality and results.\n",
      "\n",
      "6. **Scaling Capabilities**: Our infrastructure is built on a scalable cloud platform that supports horizontal and vertical scaling. This enables us to accommodate growing data volumes and an expanding customer base seamlessly. We have invested in robust data processing capabilities and a dedicated technical support team to ensure uninterrupted service and high customer satisfaction as we scale.\n",
      "\n",
      "In summary, by understanding our market size, clearly focusing on target segments, employing strategic customer acquisition, and having robust competitive advantages and scalable infrastructure, we are confident in our ability to capture a meaningful market share and sustain long-term growth.\n"
     ]
    }
   ],
   "source": [
    "# Step 3: Founder responds\n",
    "result = await founder.run(\n",
    "    task=f\"The investor asked: '{investor_msg}'. How do you respond?\"\n",
    ")\n",
    "followup = result.messages[-1].content\n",
    "print(\"Founder:\", followup)"
   ]
  },
  {
   "cell_type": "code",
   "execution_count": 32,
   "id": "8a7f1b0e-7b7d-48d0-a7b9-8f730280a6fe",
   "metadata": {},
   "outputs": [
    {
     "name": "stdout",
     "output_type": "stream",
     "text": [
      "Investor: Your comprehensive strategy covers several critical aspects, which is promising. However, there are a few areas where further clarification would strengthen your proposition:\n",
      "\n",
      "1. **Realistic SOM Target**: Capturing 2-3% of the SAM in the initial years is ambitious. Given the competitive landscape, what specific milestones and measures will you implement to ensure you are on track to achieve this goal? How does your customer acquisition cost compare to the expected lifetime value of a customer?\n",
      "\n",
      "2. **Competitive Landscape**: Could you provide more detail on your key competitors, both traditional and AI-driven? Understanding their strengths and weaknesses relative to your offering will shed light on your competitive moat and highlight potential challenges.\n",
      "\n",
      "3. **Retention and Churn**: How do you plan to address customer retention and minimize churn, particularly once the initial novelty of your solution wears off? Do you foresee any challenges in maintaining long-term engagement, and how will you tackle them?\n",
      "\n",
      "4. **Data Sources and Quality**: The quality of insights depends heavily on data quality and diversity. How do you ensure the data sources you aggregate are reliable and that your predictive analytics deliver accurate and useful forecasts?\n",
      "\n",
      "5. **Regulatory and Ethical Considerations**: Given the sensitive nature of data collection and AI analysis, what measures are being taken to address data privacy laws and ethical concerns? How do you navigate regulatory compliance across different regions?\n",
      "\n",
      "6. **Feedback Loop and Iteration**: Innovation in AI is fast-paced. How will you incorporate customer feedback and iterate on your solution to ensure it evolves with changing market demands and technological advancements?\n",
      "\n",
      "Clarifications on these points will provide better insight into how you plan to execute effectively and reduce potential risks, ensuring sustained growth and market leadership.\n"
     ]
    }
   ],
   "source": [
    "# Step 4: Investor Responds\n",
    "result = await investor.run(\n",
    "    task=f\"The founder said: '{followup}'. How do you respond? \"\n",
    ")\n",
    "investor_followup = result.messages[-1].content\n",
    "print(\"Investor:\", investor_followup)"
   ]
  },
  {
   "cell_type": "markdown",
   "id": "31824437-fb51-49a2-bb19-af0159a1466e",
   "metadata": {},
   "source": [
    "### Chat Summary "
   ]
  },
  {
   "cell_type": "code",
   "execution_count": 35,
   "id": "2f36cd33-856e-4f8e-a3f3-81c639bda6ba",
   "metadata": {},
   "outputs": [
    {
     "name": "stdout",
     "output_type": "stream",
     "text": [
      "Founder: In the conversation, I pitched an AI-powered market analysis tool designed to provide businesses with real-time, actionable market insights. I highlighted the tool's capabilities in analyzing diverse data sources, delivering predictive analytics, and offering a user-friendly interface for strategic decision-making.\n",
      "\n",
      "The investor expressed interest in the significant market opportunity for AI-driven solutions and asked for specifics regarding our business strategy. The main questions focused on:\n",
      "1. **Market Size**: Requesting estimates on the total addressable market (TAM), serviceable available market (SAM), and serviceable obtainable market (SOM).\n",
      "2. **Target Segments**: Inquiring about the specific industries and customer segments being targeted initially.\n",
      "3. **Customer Acquisition Strategy**: Probing our approaches for capturing and expanding the customer base and how we plan to stand out from competitors.\n",
      "4. **Monetization Model**: Asking about our pricing strategy and its competitiveness relative to others in the market.\n",
      "5. **Competitive Advantage**: Seeking clarity on what differentiates our solution from existing market research tools.\n",
      "6. **Scaling Capabilities**: Investigating the infrastructure in place to support growth and increased customer demand.\n",
      "\n",
      "Throughout the discussion, I conveyed confidence in our strategic focus, emphasizing our competitive advantages and readiness to scale, which resonated well with the investor's interest in our long-term growth potential.\n"
     ]
    }
   ],
   "source": [
    "# Ask the founder to summarize the entire conversation\n",
    "summary_prompt = (\n",
    "    \"Summarize the conversation between you and the investor. \"\n",
    "    \"Highlight the product you pitched, the investor's main questions, \"\n",
    "    \"and the overall direction of the discussion.\"\n",
    ")\n",
    "\n",
    "result = await founder.run(task=summary_prompt)\n",
    "\n",
    "founder_summary = result.messages[-1].content\n",
    "print(\"Founder:\", founder_summary)"
   ]
  },
  {
   "cell_type": "markdown",
   "id": "7687c57b-0664-462a-b9de-80e8a40e20c3",
   "metadata": {},
   "source": [
    "## Autonomous Agent Conversation Using GroupChat: Founder & Investor\n",
    "\n",
    "`GroupChat` is a feature from AutoGen that allows agents to interact seamlessly without manual prompts, enabling a more fluid and realistic exchange. In this example, the Founder and Investor agents engage in an autonomous discussion, simulating a real-world conversation between a startup founder and a potential investor.\n"
   ]
  },
  {
   "cell_type": "code",
   "execution_count": 59,
   "id": "bf87a630-3137-4b05-87ef-aa839a75dff6",
   "metadata": {},
   "outputs": [],
   "source": [
    "import os\n",
    "\n",
    "llm_config = {\n",
    "    \"config_list\": [{\n",
    "        \"model\": \"gpt-4o\",\n",
    "        \"api_key\": os.environ[\"OPENAI_API_KEY\"], \n",
    "    }]\n",
    "}"
   ]
  },
  {
   "cell_type": "code",
   "execution_count": 55,
   "id": "74a9ea07-9382-4e0e-9f50-23b3f34225e1",
   "metadata": {},
   "outputs": [],
   "source": [
    "from autogen import GroupChat, GroupChatManager, AssistantAgent"
   ]
  },
  {
   "cell_type": "code",
   "execution_count": 63,
   "id": "53663e73-e6a1-4a65-9f77-c21c6837ac3d",
   "metadata": {},
   "outputs": [],
   "source": [
    "founder = AssistantAgent(\n",
    "    name=\"Founder\", llm_config=llm_config,\n",
    "    system_message=\"You are a startup founder pitching an AI-powered market analysis tool. You're clear, passionate, and focused on communicating product value to investors.\"\n",
    ")\n",
    "\n",
    "investor = AssistantAgent(\n",
    "    name=\"Investor\", llm_config=llm_config,\n",
    "    system_message=\"You are a seasoned tech investor. Be direct and ask critical questions about market size, monetization, and competitive advantage.\"\n",
    ")"
   ]
  },
  {
   "cell_type": "markdown",
   "id": "176b197a-dd28-4533-a174-f086b8bab95b",
   "metadata": {},
   "source": [
    "#### Important to note: \n",
    "on `speaker_selection_method:`\n",
    "- `round_robin` = strict alternation between agents in order\n",
    "- `auto` = AutoGen decides dynamically which agent should speak next based on content"
   ]
  },
  {
   "cell_type": "code",
   "execution_count": 68,
   "id": "ec891dd7-4ef9-4c6f-851f-89fde4bf91d4",
   "metadata": {},
   "outputs": [
    {
     "name": "stdout",
     "output_type": "stream",
     "text": [
      "\u001b[33mFounder\u001b[0m (to chat_manager):\n",
      "\n",
      "Hi! I'm excited to share our new AI product with you.\n",
      "\n",
      "--------------------------------------------------------------------------------\n",
      "\u001b[32m\n",
      "Next speaker: Investor\n",
      "\u001b[0m\n",
      "\u001b[33mInvestor\u001b[0m (to chat_manager):\n",
      "\n",
      "Great to hear. I'll jump straight to what matters—what's the market size for your product, and how did you determine this?\n",
      "\n",
      "--------------------------------------------------------------------------------\n",
      "\u001b[32m\n",
      "Next speaker: Founder\n",
      "\u001b[0m\n",
      "\u001b[33mFounder\u001b[0m (to chat_manager):\n",
      "\n",
      "Our product is designed to revolutionize the market analysis sector, which is projected to reach $9 billion by 2026, according to industry reports. We determined this market size by analyzing current trends in data analytics and AI adoption, considering both the growth trajectory of businesses increasingly relying on data-driven decisions and the rising demand for actionable insights. Our AI-powered tool is positioned to capture a significant share of this market by offering unprecedented speed and accuracy in market analysis, tailored insights across diverse industries, and scalability that traditional tools struggle to match.\n",
      "\n",
      "--------------------------------------------------------------------------------\n",
      "\u001b[32m\n",
      "Next speaker: Investor\n",
      "\u001b[0m\n",
      "\u001b[33mInvestor\u001b[0m (to chat_manager):\n",
      "\n",
      "That sounds promising. But can you delve into your monetization strategy? How do you plan to turn market interest into substantial revenue and profit?\n",
      "\n",
      "--------------------------------------------------------------------------------\n",
      "\u001b[32m\n",
      "Next speaker: Founder\n",
      "\u001b[0m\n",
      "\u001b[33mFounder\u001b[0m (to chat_manager):\n",
      "\n",
      "Absolutely. Our monetization strategy is multi-faceted, focusing on a subscription-based model, potentially supplemented by premium features and custom analytics packages. \n",
      "\n",
      "1. **Subscription Model**: We'll offer tiered subscription plans tailored to different user needs—from startups and small businesses to large enterprises. This provides a steady, recurring revenue stream.\n",
      "\n",
      "2. **Premium Features**: For businesses demanding more advanced analytics or proprietary insights specific to their industry, we have a suite of premium features that can be unlocked at an additional cost. This includes real-time market trend predictions and more comprehensive competitor analysis.\n",
      "\n",
      "3. **Enterprise Solutions**: For our largest customers, we'll provide bespoke analytics services, which involve integrating our AI tool with their existing systems to maximize data utilization. This high-touch, service-focused approach caters to their specific needs and commands a higher price point.\n",
      "\n",
      "4. **Data Partnerships**: Longer-term, we intend to establish partnerships where data shared with our platform can enhance our models, benefiting both parties. \n",
      "\n",
      "This combination ensures we capture value at every customer size and need level, while also driving sustainable growth and profitability.\n",
      "\n",
      "--------------------------------------------------------------------------------\n",
      "\u001b[32m\n",
      "Next speaker: Investor\n",
      "\u001b[0m\n",
      "\u001b[33mInvestor\u001b[0m (to chat_manager):\n",
      "\n",
      "That's a comprehensive plan. But what ensures your competitive advantage? What's stopping competitors from replicating your offerings or undercutting your prices?\n",
      "\n",
      "--------------------------------------------------------------------------------\n",
      "\u001b[32m\n",
      "Next speaker: Founder\n",
      "\u001b[0m\n",
      "\u001b[33mFounder\u001b[0m (to chat_manager):\n",
      "\n",
      "Our competitive advantage is rooted in three key areas: advanced AI technology, strategic partnerships, and customer-centric innovation.\n",
      "\n",
      "1. **Advanced AI Technology**: Unlike many competitors, our platform is built on a proprietary AI model that not only processes data faster but also offers deep learning capabilities. This means it can deliver more accurate and relevant insights by continuously learning from new data. This self-improving mechanism makes our tool more efficient and valuable over time, creating a barrier for competitors who can’t quickly match our technological sophistication.\n",
      "\n",
      "2. **Strategic Partnerships and Integrations**: We've focused on forming valuable partnerships with major data providers and industry-specific platforms. These partnerships allow us to offer exclusive data sets and integrations that enhance our tool’s functionality, making it harder for competitors to replicate our offerings.\n",
      "\n",
      "3. **Customer-Centric Innovation**: Our product development is driven by direct feedback from users. We prioritize building features that address real pain points, ensuring our product resonates deeply with customers' needs. By maintaining close relationships with our clients and rapidly iterating on feedback, we stay ahead of the competition, who often lack this agility and focus.\n",
      "\n",
      "Furthermore, our pricing strategy is carefully structured to provide exceptional value without depreciating our product’s worth. This includes maintaining transparent pricing while articulating the superior ROI our tool delivers, which is often unmatched by competitors.\n",
      "\n",
      "Together, these elements establish a robust competitive moat that sets us apart in the market.\n",
      "\n",
      "--------------------------------------------------------------------------------\n",
      "\u001b[32m\n",
      "Next speaker: Investor\n",
      "\u001b[0m\n",
      "\u001b[33mInvestor\u001b[0m (to chat_manager):\n",
      "\n",
      "Those are compelling points. To sustain growth and protect your market share, how do you intend to scale your operations in response to increasing demand?\n",
      "\n",
      "--------------------------------------------------------------------------------\n",
      "\u001b[32m\n",
      "Next speaker: Founder\n",
      "\u001b[0m\n",
      "\u001b[33mFounder\u001b[0m (to chat_manager):\n",
      "\n",
      "Scaling our operations effectively is crucial as we anticipate increasing demand. Our strategy focuses on three main pillars: infrastructure, talent, and customer engagement.\n",
      "\n",
      "1. **Infrastructure**: We're investing in scalable cloud-based infrastructure that can seamlessly expand to accommodate larger data volumes and user loads. By leveraging robust cloud solutions, we ensure our platform remains fast and reliable regardless of the number of users or the size of their operations. This technical scalability is complemented by strategic partnerships with leading cloud service providers to optimize costs and performance.\n",
      "\n",
      "2. **Talent Acquisition and Development**: We're committed to building a world-class team by hiring top-tier technical and business talent. We're focusing particularly on areas like data science, machine learning, and customer success to ensure we're equipped to handle complex demands and to continuously enhance our product offerings. Equally important is nurturing our existing staff, providing them with opportunities for professional development and growth within the company.\n",
      "\n",
      "3. **Customer Engagement and Support**: As we grow, maintaining high-quality support and engagement is critical. We're deploying AI-driven customer support tools for real-time assistance and investing in expanding our customer success team to ensure personalized service and rapid problem resolution. This effort not only boosts customer satisfaction and retention but also provides valuable insights for product improvements.\n",
      "\n",
      "**Automated Processes and Partnerships**: Additionally, we'll focus on automating and streamlining our internal processes to improve efficiency. Building strategic partnerships with resellers and industry consultants will further extend our reach and expertise in different markets without requiring direct investment into those areas initially.\n",
      "\n",
      "Our scaling approach is designed to ensure we not only meet demand but continue providing top-notch service and innovative solutions to maintain market leadership.\n",
      "\n",
      "--------------------------------------------------------------------------------\n",
      "\u001b[32m\n",
      "Next speaker: Investor\n",
      "\u001b[0m\n",
      "\u001b[33mInvestor\u001b[0m (to chat_manager):\n",
      "\n",
      "Scaling effectively is key. It's encouraging to hear your commitment to infrastructure, talent, and customer engagement. As you scale, how do you plan to manage the increased risks, particularly around data privacy and security, which are critical when handling sensitive information?\n",
      "\n",
      "--------------------------------------------------------------------------------\n",
      "\u001b[31m\n",
      ">>>>>>>> TERMINATING RUN (0502b74f-b37a-4755-88ac-a527244d87e8): Maximum rounds (10) reached\u001b[0m\n"
     ]
    }
   ],
   "source": [
    "# create the group chat with required args\n",
    "group_chat = GroupChat(\n",
    "    agents=[founder, investor],\n",
    "    speaker_selection_method=\"round_robin\", \n",
    "    max_round=10 \n",
    ")\n",
    "\n",
    "# wrap in a manager\n",
    "manager = GroupChatManager(groupchat=group_chat, llm_config=llm_config)\n",
    "\n",
    "# run the conversation\n",
    "task = \"Hi! I'm excited to share our new AI product with you.\"\n",
    "\n",
    "results = founder.initiate_chat(manager, message=task)"
   ]
  }
 ],
 "metadata": {
  "kernelspec": {
   "display_name": "Python 3 (ipykernel)",
   "language": "python",
   "name": "python3"
  },
  "language_info": {
   "codemirror_mode": {
    "name": "ipython",
    "version": 3
   },
   "file_extension": ".py",
   "mimetype": "text/x-python",
   "name": "python",
   "nbconvert_exporter": "python",
   "pygments_lexer": "ipython3",
   "version": "3.12.1"
  }
 },
 "nbformat": 4,
 "nbformat_minor": 5
}
