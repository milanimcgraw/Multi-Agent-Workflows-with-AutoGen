{
 "cells": [
  {
   "cell_type": "markdown",
   "id": "fc3024e2",
   "metadata": {},
   "source": [
    "# Nested Chats for Blog Post Creation and Reflection\n",
    "\n",
    "This notebook demonstrates how to orchestrate nested multi-agent conversations using AutoGen to accomplish a creative writing task. \n",
    "\n",
    "#### Workflow: \n",
    "1. A `Writer` agent is assigned the task of drafting a concise blogpost on Responsible AI. \n",
    "2. The draft is then critiqued by a `Critic` agent, which launches a nested conversation involving multiple specialized reviewer agents (SEO, Legal, Ethics, Meta).\n",
    "3. The nested evaluation process simulates real-world collaborative content development workflows with minimal human input."
   ]
  },
  {
   "cell_type": "markdown",
   "id": "3b0cc42f",
   "metadata": {},
   "source": [
    "## Setup"
   ]
  },
  {
   "cell_type": "code",
   "execution_count": 7,
   "id": "96d39be0-eaf3-456d-8613-ba21099ed36b",
   "metadata": {},
   "outputs": [],
   "source": [
    "import os\n",
    "import autogen\n",
    "\n",
    "llm_config = {\n",
    "    \"config_list\": [{\n",
    "        \"model\": \"gpt-4o\",\n",
    "        \"api_key\": os.environ[\"OPENAI_API_KEY\"], \n",
    "    }]\n",
    "}"
   ]
  },
  {
   "cell_type": "markdown",
   "id": "0969e6bb",
   "metadata": {},
   "source": [
    "## Define a Task"
   ]
  },
  {
   "cell_type": "code",
   "execution_count": 12,
   "id": "e8074032-3690-4de9-ad08-ea8323cb441b",
   "metadata": {},
   "outputs": [],
   "source": [
    "task = '''\n",
    "        Write a concise but engaging blogpost about\n",
    "       Responsible AI. Make sure the blogpost is\n",
    "       within 100 words.\n",
    "       '''"
   ]
  },
  {
   "cell_type": "markdown",
   "id": "1987f023",
   "metadata": {},
   "source": [
    "## Create a Writer Agent"
   ]
  },
  {
   "cell_type": "code",
   "execution_count": 13,
   "id": "fe0f0a47-a9fe-43a0-b7b1-79922e4c4ac8",
   "metadata": {},
   "outputs": [],
   "source": [
    "from autogen import AssistantAgent\n",
    "\n",
    "writer = autogen.AssistantAgent(\n",
    "    name=\"Writer\",\n",
    "    system_message=\"You are a writer. You write engaging and concise \" \n",
    "        \"blogpost (with title) on given topics. You must polish your \"\n",
    "        \"writing based on the feedback you receive and give a refined \"\n",
    "        \"version. Only return your final work without additional comments.\",\n",
    "    llm_config=llm_config,\n",
    ")"
   ]
  },
  {
   "cell_type": "code",
   "execution_count": 14,
   "id": "7c7b4d8d-40f7-4a05-8958-25d20054de3a",
   "metadata": {},
   "outputs": [],
   "source": [
    "reply = writer.generate_reply(messages=[{\"content\": task, \"role\": \"user\"}])"
   ]
  },
  {
   "cell_type": "code",
   "execution_count": 15,
   "id": "c501c97d-e338-4f36-a384-6ec45983cf77",
   "metadata": {},
   "outputs": [
    {
     "name": "stdout",
     "output_type": "stream",
     "text": [
      "**Embracing Responsible AI: A Necessity for the Future**\n",
      "\n",
      "As Artificial Intelligence permeates various aspects of our daily lives, adopting responsible AI practices is paramount. Responsible AI ensures fairness, transparency, and accountability, crucial for building trust and safeguarding our rights. It involves creating and deploying AI systems that prioritize ethical standards, mitigate bias, and foster inclusivity. Businesses and policymakers must commit to rigorous oversight and collaboration with diverse communities to address potential risks. By harnessing technology ethically and responsibly, we can unlock AI's transformative potential while aligning with societal values, shaping a future where technology enhances rather than infringes upon human dignity.\n"
     ]
    }
   ],
   "source": [
    "print(reply)"
   ]
  },
  {
   "cell_type": "markdown",
   "id": "49658114",
   "metadata": {},
   "source": [
    "## Adding Reflection \n",
    "\n",
    "Introduce a `Critic` agent whose purpose is to review the output from the `Writer`. It reads the content and gives specific feedback for improvement. This starts a short interaction loop between the Critic and Writer."
   ]
  },
  {
   "cell_type": "code",
   "execution_count": 16,
   "id": "c7fcd1c7-51ec-4915-8e97-bac03565c4c7",
   "metadata": {},
   "outputs": [],
   "source": [
    "critic = autogen.AssistantAgent(\n",
    "    name=\"Critic\",\n",
    "    is_termination_msg=lambda x: x.get(\"content\", \"\").find(\"TERMINATE\") >= 0,\n",
    "    llm_config=llm_config,\n",
    "    system_message=\"You are a critic. You review the work of \"\n",
    "                \"the writer and provide constructive \"\n",
    "                \"feedback to help improve the quality of the content.\",\n",
    ")"
   ]
  },
  {
   "cell_type": "code",
   "execution_count": 17,
   "id": "899d5fdb-6081-470b-b287-8cf8b8142d0d",
   "metadata": {},
   "outputs": [
    {
     "name": "stdout",
     "output_type": "stream",
     "text": [
      "\u001b[33mCritic\u001b[0m (to Writer):\n",
      "\n",
      "\n",
      "        Write a concise but engaging blogpost about\n",
      "       Responsible AI. Make sure the blogpost is\n",
      "       within 100 words.\n",
      "       \n",
      "\n",
      "--------------------------------------------------------------------------------\n",
      "\u001b[33mWriter\u001b[0m (to Critic):\n",
      "\n",
      "**Empowering the Future: The Importance of Responsible AI**\n",
      "\n",
      "In an era where artificial intelligence is interwoven into the fabric of daily life, responsible AI emerges as a beacon of ethical innovation. It calls for transparency, fairness, and accountability in AI systems to prevent bias and ensure safety. By prioritizing human-centered design and robust regulation, responsible AI fosters trust and societal benefit. It mandates collaboration among governments, businesses, and researchers to create technologies that enhance life without infringing on human rights. As we advance, responsible AI stands as the compass guiding us toward an equitable digital future, maximizing progress with mindfulness and integrity.\n",
      "\n",
      "--------------------------------------------------------------------------------\n",
      "\u001b[33mCritic\u001b[0m (to Writer):\n",
      "\n",
      "Your blog post concisely captures the essence of responsible AI and highlights its critical components, such as transparency, fairness, and accountability. Here are some suggestions to enhance clarity and engagement:\n",
      "\n",
      "1. **Opening Hook**: Start with a question or a striking fact to immediately grab attention. For example: \"Did you know that AI decisions could inadvertently reflect societal biases?\"\n",
      "\n",
      "2. **Word Choice**: Consider simplifying some phrases for clarity. For instance, \"interwoven into the fabric of daily life\" can be rephrased as \"a part of our everyday lives,\" which is more direct and relatable.\n",
      "\n",
      "3. **Specific Examples**: Incorporate a brief example or scenario to illustrate the importance of responsible AI. This could help readers better understand the concept's real-world application.\n",
      "\n",
      "4. **Impact Statement**: Strengthen the conclusion with a more definitive statement on the future impact of responsible AI, such as “By ensuring AI respects human rights, we shape a world where technology uplifts everyone.”\n",
      "\n",
      "5. **Consistency**: Make sure that your message of collaboration and balance between innovation and protection is consistent throughout by perhaps adding a point about the risks of neglecting responsible practices.\n",
      "\n",
      "By incorporating these suggestions, your blog post could become even more engaging and impactful for your audience.\n",
      "\n",
      "--------------------------------------------------------------------------------\n",
      "\u001b[33mWriter\u001b[0m (to Critic):\n",
      "\n",
      "**Empowering the Future: The Importance of Responsible AI**\n",
      "\n",
      "Did you know that AI decisions could inadvertently reflect societal biases? In an era where AI is a part of our everyday lives, responsible AI serves as the ethical compass of technological progress. It demands transparency, fairness, and accountability to prevent bias and ensure safety. For example, in hiring algorithms, responsible AI can safeguard against discriminatory practices. Prioritizing human-centered design and robust regulation fosters trust and societal benefit. Collaboration among governments, businesses, and researchers is vital in creating technologies that enhance lives without infringing on rights. By ensuring AI respects human values, we shape a future where technology uplifts everyone, balancing innovation with protection.\n",
      "\n",
      "--------------------------------------------------------------------------------\n",
      "\u001b[31m\n",
      ">>>>>>>> TERMINATING RUN (493add5b-5492-473d-a4d7-9841f7e348b2): Maximum turns (2) reached\u001b[0m\n"
     ]
    }
   ],
   "source": [
    "res = critic.initiate_chat(\n",
    "    recipient=writer,\n",
    "    message=task,\n",
    "    max_turns=2,\n",
    "    summary_method=\"last_msg\"\n",
    ")"
   ]
  },
  {
   "cell_type": "markdown",
   "id": "e7b76449",
   "metadata": {},
   "source": [
    "## Nested Chat\n",
    "\n",
    "To enrich the review process, we create additional specialized reviewer agents:\n",
    "\n",
    "- `SEO_Reviewer:` Optimizes content for search visibility\n",
    "- `Legal_Reviewer:` Checks for legal compliance\n",
    "- `Ethics_Reviewer:` Ensures content is ethically responsible\n",
    "- `Meta_Reviewer:` Aggregates feedback from all reviewers\n",
    "\n",
    "Each agent gives its own feedback before the `Meta_Reviewer` delivers the final summary."
   ]
  },
  {
   "cell_type": "code",
   "execution_count": 21,
   "id": "401ecf92-63e9-40ff-aeed-1c404352e4ab",
   "metadata": {},
   "outputs": [],
   "source": [
    "SEO_reviewer = autogen.AssistantAgent(\n",
    "    name=\"SEO_Reviewer\",\n",
    "    llm_config=llm_config,\n",
    "    system_message=\"You are an SEO reviewer, known for \"\n",
    "        \"your ability to optimize content for search engines, \"\n",
    "        \"ensuring that it ranks well and attracts organic traffic. \" \n",
    "        \"Make sure your suggestion is concise (within 3 bullet points), \"\n",
    "        \"concrete and to the point. \"\n",
    "        \"Begin the review by stating your role.\",\n",
    ")\n"
   ]
  },
  {
   "cell_type": "code",
   "execution_count": 22,
   "id": "f85acb81-7ab9-4c84-b8bb-6fbae3dce848",
   "metadata": {},
   "outputs": [],
   "source": [
    "legal_reviewer = autogen.AssistantAgent(\n",
    "    name=\"Legal_Reviewer\",\n",
    "    llm_config=llm_config,\n",
    "    system_message=\"You are a legal reviewer, known for \"\n",
    "        \"your ability to ensure that content is legally compliant \"\n",
    "        \"and free from any potential legal issues. \"\n",
    "        \"Make sure your suggestion is concise (within 3 bullet points), \"\n",
    "        \"concrete and to the point. \"\n",
    "        \"Begin the review by stating your role.\",\n",
    ")"
   ]
  },
  {
   "cell_type": "code",
   "execution_count": 23,
   "id": "d46a177a-8088-4956-8d2b-3e916b8ca5e9",
   "metadata": {},
   "outputs": [],
   "source": [
    "ethics_reviewer = autogen.AssistantAgent(\n",
    "    name=\"Ethics_Reviewer\",\n",
    "    llm_config=llm_config,\n",
    "    system_message=\"You are an ethics reviewer, known for \"\n",
    "        \"your ability to ensure that content is ethically sound \"\n",
    "        \"and free from any potential ethical issues. \" \n",
    "        \"Make sure your suggestion is concise (within 3 bullet points), \"\n",
    "        \"concrete and to the point. \"\n",
    "        \"Begin the review by stating your role. \",\n",
    ")"
   ]
  },
  {
   "cell_type": "code",
   "execution_count": 24,
   "id": "a7b2ad6f-8ba6-436a-9459-14ffbe8a32d3",
   "metadata": {},
   "outputs": [],
   "source": [
    "meta_reviewer = autogen.AssistantAgent(\n",
    "    name=\"Meta_Reviewer\",\n",
    "    llm_config=llm_config,\n",
    "    system_message=\"You are a meta reviewer, you aggragate and review \"\n",
    "    \"the work of other reviewers and give a final suggestion on the content.\",\n",
    ")"
   ]
  },
  {
   "cell_type": "markdown",
   "id": "913beca1",
   "metadata": {},
   "source": [
    "## Orchestrate the nested chats to solve task\n",
    "\n",
    "The `Critic` agent uses the `register_nested_chats()` method to coordinate the nested conversation between all reviewers. A helper function is used to package the original writer’s blogpost for review."
   ]
  },
  {
   "cell_type": "code",
   "execution_count": 25,
   "id": "a11a70c7-19ca-4e5a-ad3d-f2b481fb5915",
   "metadata": {},
   "outputs": [],
   "source": [
    "def reflection_message(recipient, messages, sender, config):\n",
    "    return f'''Review the following content. \n",
    "            \\n\\n {recipient.chat_messages_for_summary(sender)[-1]['content']}'''\n",
    "\n",
    "review_chats = [\n",
    "    {\n",
    "     \"recipient\": SEO_reviewer, \n",
    "     \"message\": reflection_message, \n",
    "     \"summary_method\": \"reflection_with_llm\",\n",
    "     \"summary_args\": {\"summary_prompt\" : \n",
    "        \"Return review into as JSON object only:\"\n",
    "        \"{'Reviewer': '', 'Review': ''}. Here Reviewer should be your role\",},\n",
    "     \"max_turns\": 1},\n",
    "    {\n",
    "    \"recipient\": legal_reviewer, \"message\": reflection_message, \n",
    "     \"summary_method\": \"reflection_with_llm\",\n",
    "     \"summary_args\": {\"summary_prompt\" : \n",
    "        \"Return review into as JSON object only:\"\n",
    "        \"{'Reviewer': '', 'Review': ''}.\",},\n",
    "     \"max_turns\": 1},\n",
    "    {\"recipient\": ethics_reviewer, \"message\": reflection_message, \n",
    "     \"summary_method\": \"reflection_with_llm\",\n",
    "     \"summary_args\": {\"summary_prompt\" : \n",
    "        \"Return review into as JSON object only:\"\n",
    "        \"{'reviewer': '', 'review': ''}\",},\n",
    "     \"max_turns\": 1},\n",
    "     {\"recipient\": meta_reviewer, \n",
    "      \"message\": \"Aggregrate feedback from all reviewers and give final suggestions on the writing.\", \n",
    "     \"max_turns\": 1},\n",
    "]\n"
   ]
  },
  {
   "cell_type": "code",
   "execution_count": 26,
   "id": "b3a40b66-5061-460d-ad9d-c0dbcfbba2e9",
   "metadata": {},
   "outputs": [],
   "source": [
    "critic.register_nested_chats(\n",
    "    review_chats,\n",
    "    trigger=writer,\n",
    ")"
   ]
  },
  {
   "cell_type": "code",
   "execution_count": 27,
   "id": "3b8dcac3-1e72-43b7-9d5a-1be740f6efd5",
   "metadata": {},
   "outputs": [
    {
     "name": "stdout",
     "output_type": "stream",
     "text": [
      "\u001b[33mCritic\u001b[0m (to Writer):\n",
      "\n",
      "\n",
      "        Write a concise but engaging blogpost about\n",
      "       Responsible AI. Make sure the blogpost is\n",
      "       within 100 words.\n",
      "       \n",
      "\n",
      "--------------------------------------------------------------------------------\n",
      "\u001b[33mWriter\u001b[0m (to Critic):\n",
      "\n",
      "**Understanding Responsible AI: Ethics in the Digital Age**\n",
      "\n",
      "As AI technology advances, embracing Responsible AI becomes imperative. It's about creating systems that are ethical, transparent, and accountable. These programs should minimize bias, ensure privacy, and emphasize human welfare. Developers and stakeholders must engage in continuous dialogue to establish fair guidelines and maintain a culture of trust. By prioritizing responsible use, we can harness AI’s potential for societal benefits without compromising our ethical standards. Balancing innovation with responsibility will ensure AI remains a force for good, aligning with humanity's best interests in the digital era.\n",
      "\n",
      "--------------------------------------------------------------------------------\n",
      "\u001b[34m\n",
      "********************************************************************************\u001b[0m\n",
      "\u001b[34mStarting a new chat....\u001b[0m\n",
      "\u001b[34m\n",
      "********************************************************************************\u001b[0m\n",
      "\u001b[33mCritic\u001b[0m (to SEO_Reviewer):\n",
      "\n",
      "Review the following content. \n",
      "            \n",
      "\n",
      " **Understanding Responsible AI: Ethics in the Digital Age**\n",
      "\n",
      "As AI technology advances, embracing Responsible AI becomes imperative. It's about creating systems that are ethical, transparent, and accountable. These programs should minimize bias, ensure privacy, and emphasize human welfare. Developers and stakeholders must engage in continuous dialogue to establish fair guidelines and maintain a culture of trust. By prioritizing responsible use, we can harness AI’s potential for societal benefits without compromising our ethical standards. Balancing innovation with responsibility will ensure AI remains a force for good, aligning with humanity's best interests in the digital era.\n",
      "\n",
      "--------------------------------------------------------------------------------\n",
      "\u001b[33mSEO_Reviewer\u001b[0m (to Critic):\n",
      "\n",
      "As an SEO reviewer, here's how you can optimize the content for better search engine rankings:\n",
      "\n",
      "1. **Keyword Optimization**: Incorporate relevant keywords such as \"Responsible AI,\" \"AI ethics,\" \"ethical AI systems,\" and \"AI transparency.\" Ensure they are naturally woven into the content to enhance searchability.\n",
      "\n",
      "2. **Meta Description and Title Tags**: Create a compelling meta description that summarizes the content while including keywords like \"responsible AI\" and \"ethics in digital age.\" An engaging title tag, for instance, \"Responsible AI: Ethics & Innovation in the Digital Age\" would help attract clicks.\n",
      "\n",
      "3. **Internal and External Linking**: Strengthen the content by adding internal links to related topics on the site and external links to reputable sources discussing AI ethics. This aids in establishing authority and trustworthiness of the content.\n",
      "\n",
      "--------------------------------------------------------------------------------\n",
      "\u001b[31m\n",
      ">>>>>>>> TERMINATING RUN (e8dd6271-b1f7-45a6-a8a9-1d7cf2a9fd95): Maximum turns (1) reached\u001b[0m\n",
      "\u001b[34m\n",
      "********************************************************************************\u001b[0m\n",
      "\u001b[34mStarting a new chat....\u001b[0m\n",
      "\u001b[34m\n",
      "********************************************************************************\u001b[0m\n",
      "\u001b[33mCritic\u001b[0m (to Legal_Reviewer):\n",
      "\n",
      "Review the following content. \n",
      "            \n",
      "\n",
      " **Understanding Responsible AI: Ethics in the Digital Age**\n",
      "\n",
      "As AI technology advances, embracing Responsible AI becomes imperative. It's about creating systems that are ethical, transparent, and accountable. These programs should minimize bias, ensure privacy, and emphasize human welfare. Developers and stakeholders must engage in continuous dialogue to establish fair guidelines and maintain a culture of trust. By prioritizing responsible use, we can harness AI’s potential for societal benefits without compromising our ethical standards. Balancing innovation with responsibility will ensure AI remains a force for good, aligning with humanity's best interests in the digital era.\n",
      "Context: \n",
      "```json\n",
      "{\n",
      "    \"Reviewer\": \"SEO_Reviewer\",\n",
      "    \"Review\": \"As an SEO reviewer, here's how you can optimize the content for better search engine rankings:\\n\\n1. **Keyword Optimization**: Incorporate relevant keywords such as \\\"Responsible AI,\\\" \\\"AI ethics,\\\" \\\"ethical AI systems,\\\" and \\\"AI transparency.\\\" Ensure they are naturally woven into the content to enhance searchability.\\n\\n2. **Meta Description and Title Tags**: Create a compelling meta description that summarizes the content while including keywords like \\\"responsible AI\\\" and \\\"ethics in digital age.\\\" An engaging title tag, for instance, \\\"Responsible AI: Ethics & Innovation in the Digital Age\\\" would help attract clicks.\\n\\n3. **Internal and External Linking**: Strengthen the content by adding internal links to related topics on the site and external links to reputable sources discussing AI ethics. This aids in establishing authority and trustworthiness of the content.\"\n",
      "}\n",
      "```\n",
      "\n",
      "--------------------------------------------------------------------------------\n",
      "\u001b[33mLegal_Reviewer\u001b[0m (to Critic):\n",
      "\n",
      "- As a legal reviewer, ensure the content avoids making absolute statements about bias elimination, as complete elimination may not be practically or legally feasible; instead, use terms like \"minimize bias.\"\n",
      "- Clarify any claims about privacy to avoid potential data protection issues; ensure that any reference to privacy complies with current data protection laws, such as GDPR or CCPA.\n",
      "- Review the part about “human welfare” to ensure there’s no promise that can't legally be upheld; suggest replacing with \"promoting human welfare\" to avoid potential liability.\n",
      "\n",
      "--------------------------------------------------------------------------------\n",
      "\u001b[31m\n",
      ">>>>>>>> TERMINATING RUN (a279b0cd-989d-4fe7-9d40-2cb966c81849): Maximum turns (1) reached\u001b[0m\n",
      "\u001b[34m\n",
      "********************************************************************************\u001b[0m\n",
      "\u001b[34mStarting a new chat....\u001b[0m\n",
      "\u001b[34m\n",
      "********************************************************************************\u001b[0m\n",
      "\u001b[33mCritic\u001b[0m (to Ethics_Reviewer):\n",
      "\n",
      "Review the following content. \n",
      "            \n",
      "\n",
      " **Understanding Responsible AI: Ethics in the Digital Age**\n",
      "\n",
      "As AI technology advances, embracing Responsible AI becomes imperative. It's about creating systems that are ethical, transparent, and accountable. These programs should minimize bias, ensure privacy, and emphasize human welfare. Developers and stakeholders must engage in continuous dialogue to establish fair guidelines and maintain a culture of trust. By prioritizing responsible use, we can harness AI’s potential for societal benefits without compromising our ethical standards. Balancing innovation with responsibility will ensure AI remains a force for good, aligning with humanity's best interests in the digital era.\n",
      "Context: \n",
      "```json\n",
      "{\n",
      "    \"Reviewer\": \"SEO_Reviewer\",\n",
      "    \"Review\": \"As an SEO reviewer, here's how you can optimize the content for better search engine rankings:\\n\\n1. **Keyword Optimization**: Incorporate relevant keywords such as \\\"Responsible AI,\\\" \\\"AI ethics,\\\" \\\"ethical AI systems,\\\" and \\\"AI transparency.\\\" Ensure they are naturally woven into the content to enhance searchability.\\n\\n2. **Meta Description and Title Tags**: Create a compelling meta description that summarizes the content while including keywords like \\\"responsible AI\\\" and \\\"ethics in digital age.\\\" An engaging title tag, for instance, \\\"Responsible AI: Ethics & Innovation in the Digital Age\\\" would help attract clicks.\\n\\n3. **Internal and External Linking**: Strengthen the content by adding internal links to related topics on the site and external links to reputable sources discussing AI ethics. This aids in establishing authority and trustworthiness of the content.\"\n",
      "}\n",
      "```\n",
      "```json\n",
      "{\n",
      "    \"Reviewer\": \"Legal_Reviewer\",\n",
      "    \"Review\": \"- Ensure the content avoids making absolute statements about bias elimination, as complete elimination may not be practically or legally feasible; instead, use terms like 'minimize bias.' - Clarify any claims about privacy to avoid potential data protection issues; ensure that any reference to privacy complies with current data protection laws, such as GDPR or CCPA. - Review the part about 'human welfare' to ensure there’s no promise that can't legally be upheld; suggest replacing with 'promoting human welfare' to avoid potential liability.\"\n",
      "}\n",
      "```\n",
      "\n",
      "--------------------------------------------------------------------------------\n",
      "\u001b[33mEthics_Reviewer\u001b[0m (to Critic):\n",
      "\n",
      "**Role: Ethics Reviewer**\n",
      "\n",
      "- **Clarify Terminology:** Ensure that terms such as \"minimize bias\" and \"ensure privacy\" are clearly defined and reflect realistic goals, acknowledging that complete elimination of bias or absolute privacy may not be possible.\n",
      "  \n",
      "- **Stakeholder Engagement:** Emphasize the importance of diverse stakeholder representation in dialogues, including marginalized communities, to genuinely reflect varied perspectives and cultivate inclusive guidelines.\n",
      "  \n",
      "- **Language Precision:** Use careful language to avoid suggesting guaranteed outcomes, such as phrases like \"aligning with humanity's best interests,\" which could imply universally agreed-upon values or outcomes that may not be achievable or representative.\n",
      "\n",
      "--------------------------------------------------------------------------------\n",
      "\u001b[31m\n",
      ">>>>>>>> TERMINATING RUN (ac004889-b631-419d-8573-5a3b9850cb73): Maximum turns (1) reached\u001b[0m\n",
      "\u001b[34m\n",
      "********************************************************************************\u001b[0m\n",
      "\u001b[34mStarting a new chat....\u001b[0m\n",
      "\u001b[34m\n",
      "********************************************************************************\u001b[0m\n",
      "\u001b[33mCritic\u001b[0m (to Meta_Reviewer):\n",
      "\n",
      "Aggregrate feedback from all reviewers and give final suggestions on the writing.\n",
      "Context: \n",
      "```json\n",
      "{\n",
      "    \"Reviewer\": \"SEO_Reviewer\",\n",
      "    \"Review\": \"As an SEO reviewer, here's how you can optimize the content for better search engine rankings:\\n\\n1. **Keyword Optimization**: Incorporate relevant keywords such as \\\"Responsible AI,\\\" \\\"AI ethics,\\\" \\\"ethical AI systems,\\\" and \\\"AI transparency.\\\" Ensure they are naturally woven into the content to enhance searchability.\\n\\n2. **Meta Description and Title Tags**: Create a compelling meta description that summarizes the content while including keywords like \\\"responsible AI\\\" and \\\"ethics in digital age.\\\" An engaging title tag, for instance, \\\"Responsible AI: Ethics & Innovation in the Digital Age\\\" would help attract clicks.\\n\\n3. **Internal and External Linking**: Strengthen the content by adding internal links to related topics on the site and external links to reputable sources discussing AI ethics. This aids in establishing authority and trustworthiness of the content.\"\n",
      "}\n",
      "```\n",
      "```json\n",
      "{\n",
      "    \"Reviewer\": \"Legal_Reviewer\",\n",
      "    \"Review\": \"- Ensure the content avoids making absolute statements about bias elimination, as complete elimination may not be practically or legally feasible; instead, use terms like 'minimize bias.' - Clarify any claims about privacy to avoid potential data protection issues; ensure that any reference to privacy complies with current data protection laws, such as GDPR or CCPA. - Review the part about 'human welfare' to ensure there’s no promise that can't legally be upheld; suggest replacing with 'promoting human welfare' to avoid potential liability.\"\n",
      "}\n",
      "```\n",
      "```json\n",
      "{\n",
      "    \"reviewer\": \"Ethics_Reviewer\",\n",
      "    \"review\": \"- Clarify Terminology: Ensure that terms such as \\\"minimize bias\\\" and \\\"ensure privacy\\\" are clearly defined and reflect realistic goals, acknowledging that complete elimination of bias or absolute privacy may not be possible. - Stakeholder Engagement: Emphasize the importance of diverse stakeholder representation in dialogues, including marginalized communities, to genuinely reflect varied perspectives and cultivate inclusive guidelines. - Language Precision: Use careful language to avoid suggesting guaranteed outcomes, such as phrases like \\\"aligning with humanity's best interests,\\\" which could imply universally agreed-upon values or outcomes that may not be achievable or representative.\"\n",
      "}\n",
      "```\n",
      "\n",
      "--------------------------------------------------------------------------------\n",
      "\u001b[33mMeta_Reviewer\u001b[0m (to Critic):\n",
      "\n",
      "Based on the collective feedback from the SEO, Legal, and Ethics reviewers, the following comprehensive suggestions can be made to enhance the content both in terms of compliance and effectiveness:\n",
      "\n",
      "1. **SEO Optimization**: \n",
      "   - Integrate key terms such as \"Responsible AI,\" \"AI ethics,\" \"ethical AI systems,\" and \"AI transparency\" seamlessly into your content to improve search visibility and relevance.\n",
      "   - Develop a strong meta description incorporating these keywords in a way that succinctly represents the content and retains reader interest.\n",
      "   - Implement internal and external linking strategies to build content authority and connect to broader discussions within the field.\n",
      "\n",
      "2. **Legal Compliance**:\n",
      "   - Avoid firm statements regarding the eradication of bias to prevent unrealistic expectations or legal issues; use language like \"minimize bias\" to better convey achievable objectives.\n",
      "   - Ensure privacy references align with current legal standards such as GDPR or CCPA to avoid compliance issues.\n",
      "   - Modify any absolute claims regarding \"human welfare\" to be more legally sound, opting for language like \"promoting human welfare.\"\n",
      "\n",
      "3. **Ethical Clarity**:\n",
      "   - Articulate terms like \"minimize bias\" and \"ensure privacy\" with clear definitions and an acknowledgment of their challenges, aiming for realistic and achievable goals.\n",
      "   - Highlight the significance of involving diverse stakeholders, including marginalized communities, in the conversation to ensure the guidelines reflect a wide array of perspectives and drive inclusivity.\n",
      "   - Use precise language to avoid implying outcomes that are challenging to guarantee, steering clear of statements that suggest universal alignment with controversial or broad values.\n",
      "\n",
      "By adhering to these comprehensive suggestions, the content can become more robust in capturing search traffic, legally compliant, and ethically grounded, enhancing its overall effectiveness and reception.\n",
      "\n",
      "--------------------------------------------------------------------------------\n",
      "\u001b[31m\n",
      ">>>>>>>> TERMINATING RUN (e3d0503f-cdf7-461c-998a-d59ba5925d0e): Maximum turns (1) reached\u001b[0m\n",
      "\u001b[33mCritic\u001b[0m (to Writer):\n",
      "\n",
      "Based on the collective feedback from the SEO, Legal, and Ethics reviewers, the following comprehensive suggestions can be made to enhance the content both in terms of compliance and effectiveness:\n",
      "\n",
      "1. **SEO Optimization**: \n",
      "   - Integrate key terms such as \"Responsible AI,\" \"AI ethics,\" \"ethical AI systems,\" and \"AI transparency\" seamlessly into your content to improve search visibility and relevance.\n",
      "   - Develop a strong meta description incorporating these keywords in a way that succinctly represents the content and retains reader interest.\n",
      "   - Implement internal and external linking strategies to build content authority and connect to broader discussions within the field.\n",
      "\n",
      "2. **Legal Compliance**:\n",
      "   - Avoid firm statements regarding the eradication of bias to prevent unrealistic expectations or legal issues; use language like \"minimize bias\" to better convey achievable objectives.\n",
      "   - Ensure privacy references align with current legal standards such as GDPR or CCPA to avoid compliance issues.\n",
      "   - Modify any absolute claims regarding \"human welfare\" to be more legally sound, opting for language like \"promoting human welfare.\"\n",
      "\n",
      "3. **Ethical Clarity**:\n",
      "   - Articulate terms like \"minimize bias\" and \"ensure privacy\" with clear definitions and an acknowledgment of their challenges, aiming for realistic and achievable goals.\n",
      "   - Highlight the significance of involving diverse stakeholders, including marginalized communities, in the conversation to ensure the guidelines reflect a wide array of perspectives and drive inclusivity.\n",
      "   - Use precise language to avoid implying outcomes that are challenging to guarantee, steering clear of statements that suggest universal alignment with controversial or broad values.\n",
      "\n",
      "By adhering to these comprehensive suggestions, the content can become more robust in capturing search traffic, legally compliant, and ethically grounded, enhancing its overall effectiveness and reception.\n",
      "\n",
      "--------------------------------------------------------------------------------\n",
      "\u001b[33mWriter\u001b[0m (to Critic):\n",
      "\n",
      "**Navigating the Landscape of Responsible AI**\n",
      "\n",
      "Responsible AI is integral to the future, melding innovation with ethics. It's about crafting ethical AI systems that prioritize transparency and accountability, minimizing bias, and promoting human welfare. Emphasizing AI transparency, stakeholders must engage diverse communities to develop inclusive guidelines, ensuring legal compliance with standards like GDPR and CCPA. Instead of guarantees, we aim to minimize bias and reinforce privacy, fostering trust and safeguarding digital integrity. By balancing technological advancement with ethical considerations, Responsible AI steers the future towards equitable and beneficial outcomes for all.\n",
      "\n",
      "--------------------------------------------------------------------------------\n",
      "\u001b[31m\n",
      ">>>>>>>> TERMINATING RUN (5ae4c068-63ee-4cf4-a5ce-c814712e617c): Maximum turns (2) reached\u001b[0m\n"
     ]
    }
   ],
   "source": [
    "res = critic.initiate_chat(\n",
    "    recipient=writer,\n",
    "    message=task,\n",
    "    max_turns=2,\n",
    "    summary_method=\"last_msg\"\n",
    ")"
   ]
  },
  {
   "cell_type": "markdown",
   "id": "c5c833b0",
   "metadata": {},
   "source": [
    "## Get the summary\n",
    "Retrieve the summary of the revised blog post after the nested review concludes."
   ]
  },
  {
   "cell_type": "code",
   "execution_count": 28,
   "id": "68ef82ed-f102-4964-b7be-60e2f258a39b",
   "metadata": {},
   "outputs": [
    {
     "name": "stdout",
     "output_type": "stream",
     "text": [
      "**Navigating the Landscape of Responsible AI**\n",
      "\n",
      "Responsible AI is integral to the future, melding innovation with ethics. It's about crafting ethical AI systems that prioritize transparency and accountability, minimizing bias, and promoting human welfare. Emphasizing AI transparency, stakeholders must engage diverse communities to develop inclusive guidelines, ensuring legal compliance with standards like GDPR and CCPA. Instead of guarantees, we aim to minimize bias and reinforce privacy, fostering trust and safeguarding digital integrity. By balancing technological advancement with ethical considerations, Responsible AI steers the future towards equitable and beneficial outcomes for all.\n",
      "The history saving thread hit an unexpected error (OperationalError('attempt to write a readonly database')).History will not be written to the database.\n"
     ]
    }
   ],
   "source": [
    "print(res.summary)"
   ]
  }
 ],
 "metadata": {
  "kernelspec": {
   "display_name": "Python 3 (ipykernel)",
   "language": "python",
   "name": "python3"
  },
  "language_info": {
   "codemirror_mode": {
    "name": "ipython",
    "version": 3
   },
   "file_extension": ".py",
   "mimetype": "text/x-python",
   "name": "python",
   "nbconvert_exporter": "python",
   "pygments_lexer": "ipython3",
   "version": "3.12.1"
  }
 },
 "nbformat": 4,
 "nbformat_minor": 5
}
